{
 "cells": [
  {
   "cell_type": "markdown",
   "metadata": {},
   "source": [
    "\n",
    "# Modeling the Behavior of an RLC Circuit with an AC input\n"
   ]
  },
  {
   "cell_type": "markdown",
   "metadata": {},
   "source": [
    "Abstract"
   ]
  },
  {
   "cell_type": "markdown",
   "metadata": {},
   "source": [
    "This essay models and analyzes the output voltage of an RLC circuit with an AC input voltage. To answer this question, we built a stock-and-flow model, in which the voltage output is treated as a state variable. By comparing with the result from the theoretical calculates, our model is verified. Our results are compatible with both the theoretical calculations from a transfer function and the experimental result from the ISIM Lab. The result reveals the correlation between the offset and attenuation and the frequency of voltage input. This project reveals the interconnection between ISIM and ModSim by approaching the behavior of the RLC circuit from both an empirical perspective and a theoretical modulation. "
   ]
  },
  {
   "cell_type": "markdown",
   "metadata": {},
   "source": [
    "I. Importing Python libraries that are applicable in the following essay. "
   ]
  },
  {
   "cell_type": "markdown",
   "metadata": {},
   "source": [
    "In this essay, a number of libraries are used besides ModSim, including control, numpy, scipy and matplotlib.pyplot. The existing functions in these imported libraries make the code clearer and more succint. "
   ]
  },
  {
   "cell_type": "code",
   "execution_count": 1,
   "metadata": {},
   "outputs": [],
   "source": [
    "# Configure Jupyter so figures appear in the notebook\n",
    "%matplotlib inline\n",
    "\n",
    "# Configure Jupyter to display the assigned value after an assignment\n",
    "%config InteractiveShell.ast_node_interactivity='last_expr_or_assign'\n",
    "\n",
    "# import functions from the modsim.py module\n",
    "from modsim import *\n",
    "\n",
    "from ipywidgets import interact, interactive, fixed, interact_manual\n",
    "import ipywidgets as widgets\n",
    "\n",
    "import control as cntrl\n",
    "import numpy as np\n",
    "import scipy as sp\n",
    "import matplotlib.pyplot as plt"
   ]
  },
  {
   "cell_type": "markdown",
   "metadata": {},
   "source": [
    "II. Defining system"
   ]
  },
  {
   "cell_type": "markdown",
   "metadata": {},
   "source": [
    "In this section, the system (the value of the inductor, capacitor and resistor) are being defined. By running make_system, a set of system value is updated. \n",
    "\n",
    "<img src=\"RLC.png\" alt=\"Drawing\" style=\"width: 200px;\"/>"
   ]
  },
  {
   "cell_type": "code",
   "execution_count": 2,
   "metadata": {},
   "outputs": [
    {
     "data": {
      "text/html": [
       "<div>\n",
       "<style scoped>\n",
       "    .dataframe tbody tr th:only-of-type {\n",
       "        vertical-align: middle;\n",
       "    }\n",
       "\n",
       "    .dataframe tbody tr th {\n",
       "        vertical-align: top;\n",
       "    }\n",
       "\n",
       "    .dataframe thead th {\n",
       "        text-align: right;\n",
       "    }\n",
       "</style>\n",
       "<table border=\"1\" class=\"dataframe\">\n",
       "  <thead>\n",
       "    <tr style=\"text-align: right;\">\n",
       "      <th></th>\n",
       "      <th>values</th>\n",
       "    </tr>\n",
       "  </thead>\n",
       "  <tbody>\n",
       "    <tr>\n",
       "      <th>L</th>\n",
       "      <td>0.000047</td>\n",
       "    </tr>\n",
       "    <tr>\n",
       "      <th>C</th>\n",
       "      <td>0.000047</td>\n",
       "    </tr>\n",
       "    <tr>\n",
       "      <th>R</th>\n",
       "      <td>1000.000000</td>\n",
       "    </tr>\n",
       "  </tbody>\n",
       "</table>\n",
       "</div>"
      ],
      "text/plain": [
       "L       0.000047\n",
       "C       0.000047\n",
       "R    1000.000000\n",
       "dtype: float64"
      ]
     },
     "execution_count": 2,
     "metadata": {},
     "output_type": "execute_result"
    }
   ],
   "source": [
    "def make_params(L, C, R):\n",
    "    return Params(L = L, C = C, R = R)\n",
    "\n",
    "'''def make_system(params): \n",
    "    unpack(params)\n",
    "    init=State(V=0, dV=0)\n",
    "    \n",
    "    sim_timestep = 0.01\n",
    "    sys = System(\n",
    "        init=init,\n",
    "        R=R,\n",
    "        L=L,\n",
    "        C=C,\n",
    "        Vmag=Vmag,\n",
    "        dV0=dV0,\n",
    "        freqIn=freq,\n",
    "        sim_timestep=0.1,\n",
    "        t_end = 2.5,\n",
    "    )\n",
    "\n",
    "    return sys\n",
    "params = make_params(4.7e-5, 4.7e-5, 1e3)\n",
    "system = make_system(params)\n",
    "'''\n",
    "params = make_params(4.7e-5, 4.7e-5, 1e3)"
   ]
  },
  {
   "cell_type": "code",
   "execution_count": 3,
   "metadata": {},
   "outputs": [
    {
     "data": {
      "text/html": [
       "<div>\n",
       "<style scoped>\n",
       "    .dataframe tbody tr th:only-of-type {\n",
       "        vertical-align: middle;\n",
       "    }\n",
       "\n",
       "    .dataframe tbody tr th {\n",
       "        vertical-align: top;\n",
       "    }\n",
       "\n",
       "    .dataframe thead th {\n",
       "        text-align: right;\n",
       "    }\n",
       "</style>\n",
       "<table border=\"1\" class=\"dataframe\">\n",
       "  <thead>\n",
       "    <tr style=\"text-align: right;\">\n",
       "      <th></th>\n",
       "      <th>values</th>\n",
       "    </tr>\n",
       "  </thead>\n",
       "  <tbody>\n",
       "    <tr>\n",
       "      <th>init</th>\n",
       "      <td>V     0\n",
       "dV    0\n",
       "dtype: int64</td>\n",
       "    </tr>\n",
       "    <tr>\n",
       "      <th>R</th>\n",
       "      <td>1000</td>\n",
       "    </tr>\n",
       "    <tr>\n",
       "      <th>L</th>\n",
       "      <td>4.7e-05</td>\n",
       "    </tr>\n",
       "    <tr>\n",
       "      <th>C</th>\n",
       "      <td>4.7e-05</td>\n",
       "    </tr>\n",
       "    <tr>\n",
       "      <th>sim_timestep</th>\n",
       "      <td>0.01</td>\n",
       "    </tr>\n",
       "    <tr>\n",
       "      <th>t_end</th>\n",
       "      <td>2.5</td>\n",
       "    </tr>\n",
       "  </tbody>\n",
       "</table>\n",
       "</div>"
      ],
      "text/plain": [
       "init            V     0\n",
       "dV    0\n",
       "dtype: int64\n",
       "R                                       1000\n",
       "L                                    4.7e-05\n",
       "C                                    4.7e-05\n",
       "sim_timestep                            0.01\n",
       "t_end                                    2.5\n",
       "dtype: object"
      ]
     },
     "execution_count": 3,
     "metadata": {},
     "output_type": "execute_result"
    }
   ],
   "source": [
    "def make_system(params): \n",
    "    unpack(params)\n",
    "    init=State(V=0, dV=0)\n",
    "    \n",
    "    sim_timestep = 0.01\n",
    "    t_end = 2.5\n",
    "    f = 1000\n",
    "    omega = 2 * np.pi * f\n",
    "  \n",
    "\n",
    "    return System(\n",
    "        init=init,\n",
    "        R=R,\n",
    "        L=L,\n",
    "        C=C,\n",
    "        #Vmag=Vmag,\n",
    "        #dV0=dV0,\n",
    "        #freqIn=freq,\n",
    "        sim_timestep=sim_timestep,\n",
    "        t_end=t_end,\n",
    "    )\n",
    "\n",
    "system = make_system(params)"
   ]
  },
  {
   "cell_type": "markdown",
   "metadata": {},
   "source": [
    "III. Defining the transfer function of the circuit. "
   ]
  },
  {
   "cell_type": "markdown",
   "metadata": {},
   "source": [
    "The function used for modeling for this circuit is generated by the transfer function of an RLC circuit: \n",
    "$\\frac{V_o}{V_i}=\\frac{(ω^2)RC}{\\sqrt{(1-ω^2LC)^2+(ωRC)^2}}$."
   ]
  },
  {
   "cell_type": "markdown",
   "metadata": {},
   "source": [
    "By seperating the coefficients of ω, the equation is more explicitly shown. The \"top\" and \"bottom\" in the following section presents the numerator and denominators of the transfer function. \n"
   ]
  },
  {
   "cell_type": "code",
   "execution_count": 4,
   "metadata": {},
   "outputs": [
    {
     "data": {
      "text/plain": [
       "array([2.209e-09, 4.700e-02, 1.000e+00])"
      ]
     },
     "execution_count": 4,
     "metadata": {},
     "output_type": "execute_result"
    }
   ],
   "source": [
    "top = np.asarray([1])\n",
    "bottom = np.asarray([system.L*system.C, system.R*system.C, 1])"
   ]
  },
  {
   "cell_type": "code",
   "execution_count": 5,
   "metadata": {},
   "outputs": [
    {
     "data": {
      "text/plain": [
       "array([[0.],\n",
       "       [0.]])"
      ]
     },
     "execution_count": 5,
     "metadata": {},
     "output_type": "execute_result"
    }
   ],
   "source": [
    "sys_tf = cntrl.tf(top, bottom)\n",
    "sys_ss = cntrl.tf2ss(sys_tf)\n",
    "sys_ss_d = cntrl.c2d(sys_ss, system.sim_timestep)\n",
    "np.zeros((sys_ss_d.B.shape[0], 1))"
   ]
  },
  {
   "cell_type": "markdown",
   "metadata": {},
   "source": [
    "IV. Defining step functions"
   ]
  },
  {
   "cell_type": "markdown",
   "metadata": {},
   "source": [
    "A step function is used to simulate the step response of the circuit. \"Matmul\" (matrix multiplication) is used to present the output of this function. "
   ]
  },
  {
   "cell_type": "code",
   "execution_count": 6,
   "metadata": {},
   "outputs": [],
   "source": [
    "def step(sys, mag=1.0, time=5):\n",
    "    state = np.zeros((sys.A.shape[0], 1))\n",
    "    dt = sys.dt\n",
    "    t = []\n",
    "    y = []\n",
    "    for i in range(int(time/dt)):\n",
    "        state = np.matmul(sys.A, state) + sys.B*mag\n",
    "        output = np.matmul(sys.C, state)\n",
    "        t.append(i*dt)\n",
    "        y.append(float(output))\n",
    "    return t,y"
   ]
  },
  {
   "cell_type": "code",
   "execution_count": 7,
   "metadata": {},
   "outputs": [],
   "source": [
    "t, y = step(sys_ss_d, mag=1.0, time=1)"
   ]
  },
  {
   "cell_type": "code",
   "execution_count": 8,
   "metadata": {},
   "outputs": [
    {
     "data": {
      "text/plain": [
       "array([0.        , 0.01010101, 0.02020202, 0.03030303, 0.04040404,\n",
       "       0.05050505, 0.06060606, 0.07070707, 0.08080808, 0.09090909,\n",
       "       0.1010101 , 0.11111111, 0.12121212, 0.13131313, 0.14141414,\n",
       "       0.15151515, 0.16161616, 0.17171717, 0.18181818, 0.19191919,\n",
       "       0.2020202 , 0.21212121, 0.22222222, 0.23232323, 0.24242424,\n",
       "       0.25252525, 0.26262626, 0.27272727, 0.28282828, 0.29292929,\n",
       "       0.3030303 , 0.31313131, 0.32323232, 0.33333333, 0.34343434,\n",
       "       0.35353535, 0.36363636, 0.37373737, 0.38383838, 0.39393939,\n",
       "       0.4040404 , 0.41414141, 0.42424242, 0.43434343, 0.44444444,\n",
       "       0.45454545, 0.46464646, 0.47474747, 0.48484848, 0.49494949,\n",
       "       0.50505051, 0.51515152, 0.52525253, 0.53535354, 0.54545455,\n",
       "       0.55555556, 0.56565657, 0.57575758, 0.58585859, 0.5959596 ,\n",
       "       0.60606061, 0.61616162, 0.62626263, 0.63636364, 0.64646465,\n",
       "       0.65656566, 0.66666667, 0.67676768, 0.68686869, 0.6969697 ,\n",
       "       0.70707071, 0.71717172, 0.72727273, 0.73737374, 0.74747475,\n",
       "       0.75757576, 0.76767677, 0.77777778, 0.78787879, 0.7979798 ,\n",
       "       0.80808081, 0.81818182, 0.82828283, 0.83838384, 0.84848485,\n",
       "       0.85858586, 0.86868687, 0.87878788, 0.88888889, 0.8989899 ,\n",
       "       0.90909091, 0.91919192, 0.92929293, 0.93939394, 0.94949495,\n",
       "       0.95959596, 0.96969697, 0.97979798, 0.98989899, 1.        ])"
      ]
     },
     "execution_count": 8,
     "metadata": {},
     "output_type": "execute_result"
    }
   ],
   "source": [
    "def lsim(sys, vec):\n",
    "    state = np.zeros((sys.A.shape[0], 1))\n",
    "    dt = sys.dt\n",
    "    t = []\n",
    "    y = []\n",
    "    for i in range(len(vec)):\n",
    "        state = np.matmul(sys.A, state) + sys.B*vec[i]\n",
    "        output = np.matmul(sys.C, state)\n",
    "        t.append(i*dt)\n",
    "        y.append(float(output))\n",
    "    return t,y\n",
    "sin_x = np.linspace(0, 8*np.pi, 100)\n",
    "sin_y = np.sin(sin_x)\n",
    "t, y = lsim(sys_ss_d, sin_y)\n",
    "sin_x /= 8*np.pi"
   ]
  },
  {
   "cell_type": "markdown",
   "metadata": {},
   "source": [
    "V. Graphing the results"
   ]
  },
  {
   "cell_type": "markdown",
   "metadata": {},
   "source": [
    "In the following section, a graph of an ideal RLC filter step response is presented. "
   ]
  },
  {
   "cell_type": "code",
   "execution_count": 9,
   "metadata": {},
   "outputs": [
    {
     "data": {
      "image/png": "[encoded data removed]",
      "text/plain": [
       "<Figure size 432x288 with 1 Axes>"
      ]
     },
     "metadata": {
      "needs_background": "light"
     },
     "output_type": "display_data"
    }
   ],
   "source": [
    "plt.plot(t, y)\n",
    "plt.legend(\"V\")\n",
    "plt.xlabel(\"Time (s)\")\n",
    "plt.ylabel(\"Voltage (v)\")\n",
    "plt.title(\"RLC filter step response\")\n",
    "plt.show()\n",
    "\n"
   ]
  },
  {
   "cell_type": "code",
   "execution_count": 10,
   "metadata": {},
   "outputs": [
    {
     "data": {
      "image/png": "[encoded data removed]",
      "text/plain": [
       "<Figure size 432x288 with 1 Axes>"
      ]
     },
     "metadata": {
      "needs_background": "light"
     },
     "output_type": "display_data"
    }
   ],
   "source": [
    "plt.plot(t, y, sin_x, sin_y)\n",
    "plt.xlabel(\"Time (s)\")\n",
    "plt.ylabel(\"Voltage (v)\")\n",
    "plt.title(\"RLC filter sine response\")\n",
    "plt.show()"
   ]
  },
  {
   "cell_type": "markdown",
   "metadata": {},
   "source": [
    "VI. Simulation with ODE solver"
   ]
  },
  {
   "cell_type": "markdown",
   "metadata": {},
   "source": [
    "In the following section, an ODE solver is used to optimize the best dt for the given situation. "
   ]
  },
  {
   "cell_type": "code",
   "execution_count": 78,
   "metadata": {},
   "outputs": [
    {
     "data": {
      "text/html": [
       "<div>\n",
       "<style scoped>\n",
       "    .dataframe tbody tr th:only-of-type {\n",
       "        vertical-align: middle;\n",
       "    }\n",
       "\n",
       "    .dataframe tbody tr th {\n",
       "        vertical-align: top;\n",
       "    }\n",
       "\n",
       "    .dataframe thead th {\n",
       "        text-align: right;\n",
       "    }\n",
       "</style>\n",
       "<table border=\"1\" class=\"dataframe\">\n",
       "  <thead>\n",
       "    <tr style=\"text-align: right;\">\n",
       "      <th></th>\n",
       "      <th>values</th>\n",
       "    </tr>\n",
       "  </thead>\n",
       "  <tbody>\n",
       "    <tr>\n",
       "      <th>init</th>\n",
       "      <td>I     0\n",
       "dI    0\n",
       "dtype: int64</td>\n",
       "    </tr>\n",
       "    <tr>\n",
       "      <th>R</th>\n",
       "      <td>1000</td>\n",
       "    </tr>\n",
       "    <tr>\n",
       "      <th>L</th>\n",
       "      <td>47</td>\n",
       "    </tr>\n",
       "    <tr>\n",
       "      <th>C</th>\n",
       "      <td>0.001</td>\n",
       "    </tr>\n",
       "    <tr>\n",
       "      <th>sim_timestep</th>\n",
       "      <td>0.0001</td>\n",
       "    </tr>\n",
       "    <tr>\n",
       "      <th>t_end</th>\n",
       "      <td>3</td>\n",
       "    </tr>\n",
       "    <tr>\n",
       "      <th>F</th>\n",
       "      <td>50</td>\n",
       "    </tr>\n",
       "    <tr>\n",
       "      <th>ts</th>\n",
       "      <td>[0.0, 1e-05, 2e-05, 3.0000000000000004e-05, 4e...</td>\n",
       "    </tr>\n",
       "  </tbody>\n",
       "</table>\n",
       "</div>"
      ],
      "text/plain": [
       "init                                 I     0\n",
       "dI    0\n",
       "dtype: int64\n",
       "R                                                            1000\n",
       "L                                                              47\n",
       "C                                                           0.001\n",
       "sim_timestep                                               0.0001\n",
       "t_end                                                           3\n",
       "F                                                              50\n",
       "ts              [0.0, 1e-05, 2e-05, 3.0000000000000004e-05, 4e...\n",
       "dtype: object"
      ]
     },
     "execution_count": 78,
     "metadata": {},
     "output_type": "execute_result"
    }
   ],
   "source": [
    "def slope_func(state, t, system): \n",
    "    V, dV = state\n",
    "    unpack(system)\n",
    "\n",
    "    #print(Vmag*sin(freq*t))\n",
    "    d2V = L/R * C * Vmag * sin(freq*t) - 1/R * L * C * V - 1/L * dV\n",
    "    #d2V = ((L/R*C) * (Vmag*sin((freq)*t)) - ((1/R*L*C)*V) - ((1/L)*dV))\n",
    "    #print(L/R * C * Vmag * sin(freq*t) - 1/R * L * C * _V - 1/L * dV)\n",
    "    # LI'' + RI' + 1/C I = V'\n",
    "\n",
    "    return dV, d2V\n",
    "\n",
    "del slope_func\n",
    "\n",
    "def slope_func(state, t, system):\n",
    "    I, dI = state\n",
    "    R = system.R\n",
    "    L = system.L\n",
    "    C = system.C\n",
    "    dV = np.cos(t*system.F) + np.sin(t*system.F) * 1j\n",
    "    #dV = 0\n",
    "    n_d2I = dV/L + -(R/L * dI) + -(1/(C*L) * I)\n",
    "    n_dI = dV/R  + -(1/(R*C) * I) + -(L/R * n_d2I)\n",
    "    return [n_dI, n_d2I]\n",
    "\n",
    "system = System(\n",
    "    init=State(I=0, dI=0),\n",
    "    R=1000,\n",
    "    L=47,\n",
    "    C=0.001,\n",
    "    sim_timestep=0.0001,\n",
    "    t_end=3,\n",
    "    F=50,\n",
    "    ts=[i*0.00001 for i in range(int(round(0.5/0.00001)))]\n",
    ")"
   ]
  },
  {
   "cell_type": "code",
   "execution_count": 85,
   "metadata": {},
   "outputs": [
    {
     "name": "stderr",
     "output_type": "stream",
     "text": [
      "  0%|          | 0/100 [00:00<?, ?it/s]/usr/lib/python3.7/site-packages/scipy/integrate/odepack.py:233: ComplexWarning: Casting complex values to real discards the imaginary part\n",
      "  int(bool(tfirst)))\n",
      "100%|██████████| 100/100 [00:14<00:00,  7.05it/s]\n"
     ]
    }
   ],
   "source": [
    "#results, detail = run_odeint(system, slope_func, t_eval=[i*0.01 for i in range(int(round(3/0.01)))])\n",
    "\n",
    "data = []\n",
    "from tqdm import tqdm\n",
    "from math import log10\n",
    "\n",
    "for i in tqdm(np.logspace(-3, 4, 100)):\n",
    "    #if (i < 10e1): ts=[i*0.001 for i in range(int(round(100/0.001)))]\n",
    "    #else: ts=[i*0.001 for i in range(int(round(1/0.001)))]\n",
    "    #if (i < 10e1): tend = 100\n",
    "    #else: tend = 1\n",
    "    \n",
    "    exp = log10(i)\n",
    "    t_end = 1/(10**exp) * 10\n",
    "\n",
    "    sys = System(\n",
    "        init=State(I=0, dI=0),\n",
    "        R=1000,\n",
    "        L=470,\n",
    "        C=0.00001,\n",
    "        sim_timestep=0.001,\n",
    "        t_end=t_end,\n",
    "        F=i,\n",
    "        ts=[i*0.001 for i in range(int(round(t_end/0.001)))],\n",
    "    )\n",
    "    res = run_odeint(sys, slope_func)\n",
    "    vr = (np.max(res['I']*R) - np.min(res['I']*R))/2\n",
    "    vl = L * np.max(res['dI'])\n",
    "    data.append([i, vr, vl])\n",
    "\n"
   ]
  },
  {
   "cell_type": "code",
   "execution_count": 86,
   "metadata": {},
   "outputs": [
    {
     "data": {
      "image/png": "[encoded data removed]",
      "text/plain": [
       "<Figure size 432x288 with 1 Axes>"
      ]
     },
     "metadata": {
      "needs_background": "light"
     },
     "output_type": "display_data"
    }
   ],
   "source": [
    "X = [n[0] for n in data]\n",
    "Y = [n[1] for n in data]\n",
    "Y2 = [n[2] for n in data]\n",
    "plot(X, Y)\n",
    "decorate(xlabel='Frequency (Hz)',\n",
    "         ylabel='$V_{out} / V_{in}$',\n",
    "         xscale='log', yscale='log')\n"
   ]
  },
  {
   "cell_type": "code",
   "execution_count": 77,
   "metadata": {},
   "outputs": [
    {
     "name": "stderr",
     "output_type": "stream",
     "text": [
      "/usr/lib/python3.7/site-packages/scipy/integrate/odepack.py:233: ComplexWarning: Casting complex values to real discards the imaginary part\n",
      "  int(bool(tfirst)))\n"
     ]
    },
    {
     "data": {
      "text/plain": [
       "4.119279445472219e-05"
      ]
     },
     "execution_count": 77,
     "metadata": {},
     "output_type": "execute_result"
    },
    {
     "data": {
      "image/png": "[encoded data removed]",
      "text/plain": [
       "<Figure size 432x288 with 1 Axes>"
      ]
     },
     "metadata": {
      "needs_background": "light"
     },
     "output_type": "display_data"
    }
   ],
   "source": [
    "sys = System(\n",
    "    init=State(I=0, dI=0),\n",
    "    R=1000,\n",
    "    L=47,\n",
    "    C=0.1,\n",
    "    sim_timestep=0.001,\n",
    "    t_end=1,\n",
    "    F=1000,\n",
    "    ts=[i*0.001 for i in range(int(round(1/0.001)))],\n",
    ")\n",
    "\n",
    "res = run_odeint(sys, slope_func)\n",
    "plot(res['I'])\n",
    "#plot(res['dI'], '--')\n",
    "i_amp = np.max(res['I'])*R"
   ]
  },
  {
   "cell_type": "code",
   "execution_count": 65,
   "metadata": {},
   "outputs": [
    {
     "ename": "AttributeError",
     "evalue": "'str' object has no attribute 'V'",
     "output_type": "error",
     "traceback": [
      "\u001b[0;31m---------------------------------------------------------------------------\u001b[0m",
      "\u001b[0;31mAttributeError\u001b[0m                            Traceback (most recent call last)",
      "\u001b[0;32m<ipython-input-65-a91ceeca7e68>\u001b[0m in \u001b[0;36m<module>\u001b[0;34m()\u001b[0m\n\u001b[1;32m      6\u001b[0m              ylabel='$V_{out}$ (volt)')\n\u001b[1;32m      7\u001b[0m \u001b[0;34m\u001b[0m\u001b[0m\n\u001b[0;32m----> 8\u001b[0;31m \u001b[0mplot_results_V\u001b[0m\u001b[0;34m(\u001b[0m\u001b[0mresults\u001b[0m\u001b[0;34m)\u001b[0m\u001b[0;34m\u001b[0m\u001b[0;34m\u001b[0m\u001b[0m\n\u001b[0m\u001b[1;32m      9\u001b[0m \u001b[0;34m\u001b[0m\u001b[0m\n\u001b[1;32m     10\u001b[0m \u001b[0;34m\u001b[0m\u001b[0m\n",
      "\u001b[0;32m<ipython-input-65-a91ceeca7e68>\u001b[0m in \u001b[0;36mplot_results_V\u001b[0;34m(results)\u001b[0m\n\u001b[1;32m      1\u001b[0m \u001b[0;32mdef\u001b[0m \u001b[0mplot_results_V\u001b[0m\u001b[0;34m(\u001b[0m\u001b[0mresults\u001b[0m\u001b[0;34m)\u001b[0m\u001b[0;34m:\u001b[0m\u001b[0;34m\u001b[0m\u001b[0;34m\u001b[0m\u001b[0m\n\u001b[1;32m      2\u001b[0m \u001b[0;34m\u001b[0m\u001b[0m\n\u001b[0;32m----> 3\u001b[0;31m     \u001b[0mplot\u001b[0m\u001b[0;34m(\u001b[0m\u001b[0mresults\u001b[0m\u001b[0;34m.\u001b[0m\u001b[0mV\u001b[0m\u001b[0;34m,\u001b[0m \u001b[0;34m'g-'\u001b[0m\u001b[0;34m)\u001b[0m\u001b[0;34m\u001b[0m\u001b[0;34m\u001b[0m\u001b[0m\n\u001b[0m\u001b[1;32m      4\u001b[0m \u001b[0;34m\u001b[0m\u001b[0m\n\u001b[1;32m      5\u001b[0m     decorate(xlabel=xlabel,\n",
      "\u001b[0;31mAttributeError\u001b[0m: 'str' object has no attribute 'V'"
     ]
    }
   ],
   "source": [
    "def plot_results_V(results):\n",
    "    \n",
    "    plot(results.V, 'g-')\n",
    "\n",
    "    decorate(xlabel=xlabel,\n",
    "             ylabel='$V_{out}$ (volt)')\n",
    "    \n",
    "plot_results_V(results)\n",
    "\n",
    "         "
   ]
  },
  {
   "cell_type": "code",
   "execution_count": null,
   "metadata": {},
   "outputs": [],
   "source": [
    "fs = [1, 10, 100, 1000, 10000, 100000]\n",
    "\n",
    "def sweep_freq():\n",
    "    ratios = TimeSeries()\n",
    "    offsets = TimeSeries()\n",
    "    \n",
    "    for i, f in enumerate(fs):\n",
    "        system = make_system(Params(params, f=f))\n",
    "        series = compute_vin(results, system)\n",
    "        V = estimate_A(series)\n",
    "        A_in = estimate_A(V_in)\n",
    "        A_out = estimate_A(V_out)\n",
    "\n",
    "        ratios = A_out / A_in\n",
    "        offsets = compute_offset(corr)\n",
    "\n",
    "\n",
    "    return ratios, offsets\n"
   ]
  },
  {
   "cell_type": "markdown",
   "metadata": {},
   "source": [
    "VII. Estimating the output ratio"
   ]
  },
  {
   "cell_type": "markdown",
   "metadata": {},
   "source": [
    "In the following section the amplitude of the input and output signals are analyzed. Within the range of cutoff frequency, we expect them to be about the same. Outside the range, we expect the amplitude of the output signal to be much smaller. The example uses $f=1000$ as the frequency. After testing, we sweep the frequency again. "
   ]
  },
  {
   "cell_type": "code",
   "execution_count": null,
   "metadata": {},
   "outputs": [],
   "source": [
    "system = make_system(Params(params, f=1000))\n",
    "results, details = run_ode_solver(system, slope_func, t_eval=data.index)\n",
    "V_out = results.V\n",
    "plot_results(results)\n"
   ]
  },
  {
   "cell_type": "code",
   "execution_count": null,
   "metadata": {},
   "outputs": [],
   "source": [
    "def compute_vin(results, system):\n",
    "   \n",
    "    unpack(system)\n",
    "    V_in = A * np.cos(omega * results.index)\n",
    "    return TimeSeries(V_in, results.index, name='V_in')\n",
    "\n",
    "def estimate_A(series):\n",
    "    return (series.max() - series.min()) / 2\n",
    "\n",
    "\n",
    "def compute_offset(corr):\n",
    "    peak_time = corr.idxmax()\n",
    "    period = 1 / system.f\n",
    "    frac, whole = np.modf(peak_time / period)\n",
    "    return frac\n",
    "\n",
    "def estimate_offset(V1, V2, system):\n",
    "\n",
    "    corr = np.correlate(V1, V2, mode='same')\n",
    "    corr = TimeSeries(corr, V1.index)\n",
    "    peak = corr.idxmax()\n",
    "    period = 1 / system.f\n",
    "    frac, whole = np.modf(peak / period)\n",
    "    return -frac * 360"
   ]
  },
  {
   "cell_type": "code",
   "execution_count": null,
   "metadata": {},
   "outputs": [],
   "source": [
    "corr = np.correlate(V_out, V_in, mode='same')\n",
    "corr = TimeSeries(corr, V_in.index)"
   ]
  },
  {
   "cell_type": "code",
   "execution_count": null,
   "metadata": {},
   "outputs": [],
   "source": [
    "def sweep_frequency(fs, params):\n",
    "    ratios = SweepSeries()\n",
    "    offsets = SweepSeries()\n",
    "\n",
    "    for i, f in enumerate(fs):\n",
    "        system = make_system(Params(params, f=f))\n",
    "        results, details = run_ode_solver(system, slope_func, t_eval=system.ts)\n",
    "        V_out = results.V_out\n",
    "        V_in = compute_vin(results, system)\n",
    "        ratios[f] = estimate_ratio(V_out, V_in)\n",
    "        offsets[f] = estimate_offset(V_out, V_in, system)\n",
    "    return ratios, offsets\n",
    "\n",
    "fs = 10 ** linspace(0, 4, 9)\n",
    "ratios, offsets = sweep_frequency(fs, params)"
   ]
  },
  {
   "cell_type": "code",
   "execution_count": null,
   "metadata": {},
   "outputs": [],
   "source": [
    "def plot_ratios(ratios, system):\n",
    "    \"\"\"Plot output ratios.\n",
    "    \"\"\"\n",
    "    plt.axvline(system.cutoff, color='gray', alpha=0.4)\n",
    "    plot(ratios, color='C2', label='output ratio')\n",
    "    decorate(xlabel='Frequency (Hz)',\n",
    "             ylabel='$V_{out} / V_{in}$',\n",
    "             xscale='log', yscale='log')"
   ]
  },
  {
   "cell_type": "code",
   "execution_count": null,
   "metadata": {},
   "outputs": [],
   "source": [
    "plot_ratios(ratios, system)"
   ]
  },
  {
   "cell_type": "code",
   "execution_count": null,
   "metadata": {},
   "outputs": [],
   "source": [
    "def plot_offsets(offsets, system):\n",
    "    \"\"\"Plot phase offsets.\n",
    "    \"\"\"\n",
    "    plt.axvline(system.cutoff, color='gray', alpha=0.4)\n",
    "    plot(offsets, color='C9')\n",
    "    decorate(xlabel='Frequency (Hz)',\n",
    "             ylabel='Phase offset (degree)',\n",
    "             xscale='log')"
   ]
  },
  {
   "cell_type": "code",
   "execution_count": null,
   "metadata": {},
   "outputs": [],
   "source": [
    "plot_offsets(offsets, system)"
   ]
  },
  {
   "cell_type": "code",
   "execution_count": null,
   "metadata": {},
   "outputs": [],
   "source": []
  },
  {
   "cell_type": "code",
   "execution_count": null,
   "metadata": {},
   "outputs": [],
   "source": []
  }
 ],
 "metadata": {
  "kernelspec": {
   "display_name": "Python 3",
   "language": "python",
   "name": "python3"
  },
  "language_info": {
   "codemirror_mode": {
    "name": "ipython",
    "version": 3
   },
   "file_extension": ".py",
   "mimetype": "text/x-python",
   "name": "python",
   "nbconvert_exporter": "python",
   "pygments_lexer": "ipython3",
   "version": "3.7.1"
  }
 },
 "nbformat": 4,
 "nbformat_minor": 2
}
