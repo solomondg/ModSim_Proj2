{
 "cells": [
  {
   "cell_type": "markdown",
   "metadata": {},
   "source": [
    "\n",
    "# Modeling the Behavior of an RLC Circuit with an AC input\n"
   ]
  },
  {
   "cell_type": "markdown",
   "metadata": {},
   "source": [
    "Abstract"
   ]
  },
  {
   "cell_type": "markdown",
   "metadata": {},
   "source": [
    "This essay models and analyzes the output voltage of an RLC circuit with an AC input voltage. To answer this question, we built a stock-and-flow model, in which the voltage output is treated as a state variable. By comparing with the result from the theoretical calculates, our model is verified. Our results are compatible with both the theoretical calculations from a transfer function and the experimental result from the ISIM Lab. The result reveals the correlation between the offset and attenuation and the frequency of voltage input. This project reveals the interconnection between ISIM and ModSim by approaching the behavior of the RLC circuit from both an empirical perspective and a theoretical modulation. \n",
    "\n",
    "The final goal is to create a bandpass filter with a passband frequency of 2000 rad/s, and a bandwidth of 50 rad/s"
   ]
  },
  {
   "cell_type": "markdown",
   "metadata": {},
   "source": [
    "I. Importing Python libraries that are applicable in the following essay. "
   ]
  },
  {
   "cell_type": "markdown",
   "metadata": {},
   "source": [
    "In this essay, a number of libraries are used besides ModSim, including control, numpy, scipy and matplotlib.pyplot. The existing functions in these imported libraries make the code clearer and more succint. "
   ]
  },
  {
   "cell_type": "code",
   "execution_count": 1,
   "metadata": {},
   "outputs": [],
   "source": [
    "# Configure Jupyter so figures appear in the notebook\n",
    "%matplotlib inline\n",
    "\n",
    "# Configure Jupyter to display the assigned value after an assignment\n",
    "%config InteractiveShell.ast_node_interactivity='last_expr_or_assign'\n",
    "\n",
    "# import functions from the modsim.py module\n",
    "from modsim import *\n",
    "\n",
    "from ipywidgets import interact, interactive, fixed, interact_manual\n",
    "import ipywidgets as widgets\n",
    "\n",
    "import control as cntrl\n",
    "import numpy as np\n",
    "import scipy as sp\n",
    "import matplotlib.pyplot as plt"
   ]
  },
  {
   "cell_type": "markdown",
   "metadata": {},
   "source": [
    "II. Defining system"
   ]
  },
  {
   "cell_type": "markdown",
   "metadata": {},
   "source": [
    "In this section, the system (the value of the inductor, capacitor and resistor) are being defined. By running make_system, a set of system value is updated.\n",
    "\n",
    "<img src=\"RLC.png\" alt=\"Drawing\" style=\"width: 200px;\"/>"
   ]
  },
  {
   "cell_type": "code",
   "execution_count": 130,
   "metadata": {},
   "outputs": [
    {
     "data": {
      "text/html": [
       "<div>\n",
       "<style scoped>\n",
       "    .dataframe tbody tr th:only-of-type {\n",
       "        vertical-align: middle;\n",
       "    }\n",
       "\n",
       "    .dataframe tbody tr th {\n",
       "        vertical-align: top;\n",
       "    }\n",
       "\n",
       "    .dataframe thead th {\n",
       "        text-align: right;\n",
       "    }\n",
       "</style>\n",
       "<table border=\"1\" class=\"dataframe\">\n",
       "  <thead>\n",
       "    <tr style=\"text-align: right;\">\n",
       "      <th></th>\n",
       "      <th>values</th>\n",
       "    </tr>\n",
       "  </thead>\n",
       "  <tbody>\n",
       "    <tr>\n",
       "      <th>L</th>\n",
       "      <td>0.0047</td>\n",
       "    </tr>\n",
       "    <tr>\n",
       "      <th>C</th>\n",
       "      <td>0.0001</td>\n",
       "    </tr>\n",
       "    <tr>\n",
       "      <th>R</th>\n",
       "      <td>1000.0000</td>\n",
       "    </tr>\n",
       "    <tr>\n",
       "      <th>F</th>\n",
       "      <td>500.0000</td>\n",
       "    </tr>\n",
       "  </tbody>\n",
       "</table>\n",
       "</div>"
      ],
      "text/plain": [
       "L       0.0047\n",
       "C       0.0001\n",
       "R    1000.0000\n",
       "F     500.0000\n",
       "dtype: float64"
      ]
     },
     "execution_count": 130,
     "metadata": {},
     "output_type": "execute_result"
    }
   ],
   "source": [
    "def make_params(*, R, L, C, F):\n",
    "    return Params(L = L, C = C, R = R, F=F)\n",
    "params = make_params(R=1000, L=0.0047, C=0.0001, F=500)"
   ]
  },
  {
   "cell_type": "code",
   "execution_count": 131,
   "metadata": {},
   "outputs": [
    {
     "data": {
      "text/html": [
       "<div>\n",
       "<style scoped>\n",
       "    .dataframe tbody tr th:only-of-type {\n",
       "        vertical-align: middle;\n",
       "    }\n",
       "\n",
       "    .dataframe tbody tr th {\n",
       "        vertical-align: top;\n",
       "    }\n",
       "\n",
       "    .dataframe thead th {\n",
       "        text-align: right;\n",
       "    }\n",
       "</style>\n",
       "<table border=\"1\" class=\"dataframe\">\n",
       "  <thead>\n",
       "    <tr style=\"text-align: right;\">\n",
       "      <th></th>\n",
       "      <th>values</th>\n",
       "    </tr>\n",
       "  </thead>\n",
       "  <tbody>\n",
       "    <tr>\n",
       "      <th>init</th>\n",
       "      <td>I     0\n",
       "dI    0\n",
       "dtype: int64</td>\n",
       "    </tr>\n",
       "    <tr>\n",
       "      <th>R</th>\n",
       "      <td>1000</td>\n",
       "    </tr>\n",
       "    <tr>\n",
       "      <th>L</th>\n",
       "      <td>0.0047</td>\n",
       "    </tr>\n",
       "    <tr>\n",
       "      <th>C</th>\n",
       "      <td>0.0001</td>\n",
       "    </tr>\n",
       "    <tr>\n",
       "      <th>sim_timestep</th>\n",
       "      <td>0.0001</td>\n",
       "    </tr>\n",
       "    <tr>\n",
       "      <th>t_end</th>\n",
       "      <td>3</td>\n",
       "    </tr>\n",
       "    <tr>\n",
       "      <th>F</th>\n",
       "      <td>500</td>\n",
       "    </tr>\n",
       "    <tr>\n",
       "      <th>ts</th>\n",
       "      <td>[0.0, 1e-05, 2e-05, 3.0000000000000004e-05, 4e...</td>\n",
       "    </tr>\n",
       "  </tbody>\n",
       "</table>\n",
       "</div>"
      ],
      "text/plain": [
       "init                                 I     0\n",
       "dI    0\n",
       "dtype: int64\n",
       "R                                                            1000\n",
       "L                                                          0.0047\n",
       "C                                                          0.0001\n",
       "sim_timestep                                               0.0001\n",
       "t_end                                                           3\n",
       "F                                                             500\n",
       "ts              [0.0, 1e-05, 2e-05, 3.0000000000000004e-05, 4e...\n",
       "dtype: object"
      ]
     },
     "execution_count": 131,
     "metadata": {},
     "output_type": "execute_result"
    }
   ],
   "source": [
    "def make_system(params): \n",
    "    unpack(params)\n",
    "    init=State(I=0, dI=0)\n",
    "    \n",
    "    sim_timestep = 0.0001\n",
    "    t_end = 2.5\n",
    "    \n",
    "    return System(\n",
    "        init=State(I=0, dI=0),\n",
    "        R=params.R,\n",
    "        L=params.L,\n",
    "        C=params.C,\n",
    "        sim_timestep=0.0001,\n",
    "        t_end=3,\n",
    "        F=params.F,\n",
    "        ts=[i*0.0001 for i in range(int(round(3/0.0001)))]\n",
    "    )\n",
    "\n",
    "system = make_system(params)"
   ]
  },
  {
   "cell_type": "markdown",
   "metadata": {},
   "source": [
    "III. ODE Definition\n",
    "\n",
    "The dynamics of a series RLC filter are given by the equation\n",
    "\n",
    "$L\\frac{d^2}{d^2t}i+ R\\frac{d}{dt}i + \\frac{1}{C}i=\\frac{d}{dt}V_{in}$.\n",
    "\n",
    "$V_{out} = R\\cdot i$\n",
    "\n",
    "To successfully integrate this, we must transform into equations in terms of $\\frac{d^2}{d^2t}i$ and $\\frac{d}{dt}i$\n",
    "\n",
    "$\\frac{d^2}{d^2t}i = \\frac{1}{L}\\frac{d}{dt}V -\\frac{R}{L}\\frac{d}{dt}i -\\frac{1}{CL}i$\n",
    "\n",
    "$\\frac{d}{dt}i = \\frac{1}{R}\\frac{d}{dt}V -\\frac{1}{RC}i -\\frac{L}{R}\\frac{d^2}{d^2 t}i$"
   ]
  },
  {
   "cell_type": "code",
   "execution_count": 124,
   "metadata": {},
   "outputs": [],
   "source": [
    "def slope_func(state, t, system):\n",
    "    I, dI = state\n",
    "    R = system.R\n",
    "    L = system.L\n",
    "    C = system.C\n",
    "    dV = np.cos(t*system.F) + np.sin(t*system.F) * 1j\n",
    "    #dV = 0\n",
    "    n_d2I = dV/L + -(R/L * dI) + -(1/(C*L) * I)\n",
    "    n_dI = dV/R  + -(1/(R*C) * I) + -(L/R * n_d2I)\n",
    "    return [n_dI, n_d2I]\n"
   ]
  },
  {
   "cell_type": "markdown",
   "metadata": {},
   "source": [
    "We can test this equation by integrating it with respect to a simple sin wave at 500 rad/s"
   ]
  },
  {
   "cell_type": "code",
   "execution_count": 181,
   "metadata": {},
   "outputs": [
    {
     "name": "stderr",
     "output_type": "stream",
     "text": [
      "/usr/lib/python3.7/site-packages/scipy/integrate/odepack.py:233: ComplexWarning: Casting complex values to real discards the imaginary part\n",
      "  int(bool(tfirst)))\n"
     ]
    },
    {
     "data": {
      "text/plain": [
       "[<matplotlib.lines.Line2D at 0x7f5b5f387f60>]"
      ]
     },
     "execution_count": 181,
     "metadata": {},
     "output_type": "execute_result"
    },
    {
     "data": {
      "image/png": "[encoded data removed]",
      "text/plain": [
       "<Figure size 432x288 with 1 Axes>"
      ]
     },
     "metadata": {
      "needs_background": "light"
     },
     "output_type": "display_data"
    }
   ],
   "source": [
    "test_sys = make_system(make_params(R=1000, L=0.0047, C=0.0001, F=500))\n",
    "res = run_odeint(test_sys, slope_func)\n",
    "#for i in range(len(res)):\n",
    "#    out.append([i*test_sys.sim_timestep, res['I'][i]])\n",
    "\n",
    "#out = []\n",
    "#for i in np.linspace(0, 0.1, 500):\n",
    "#    out.append([i, np.sin(i*500)])\n",
    "#out = np.asarray(out)/10\n",
    "#plot(out, '--')\n",
    "plot(res['I'][0:0.1]*test_sys.R, '-')"
   ]
  },
  {
   "cell_type": "markdown",
   "metadata": {},
   "source": [
    "As we can see, the output of this system is (similarly) a sin wave, showing its validity as an analog filter."
   ]
  },
  {
   "cell_type": "markdown",
   "metadata": {},
   "source": [
    "III. Defining the transfer function of the circuit. \n",
    "\n",
    "We found that the differential equations of this circuit required too high of a simulation fidelity to simulate accurately at high frequencies. We decided to transform the time-based differential equations into a frequency-based transfer function, which the python-control library would allow us to manipulate much faster and more accurately than could be done with a differential equation-based simulation."
   ]
  },
  {
   "cell_type": "markdown",
   "metadata": {},
   "source": [
    "Generalized transfer function of a series RLC circuit: \n",
    "\n",
    "$\\frac{V_o}{V_i}=\\frac{R}{L} \\frac{s}{s^2 + \\frac{R}{L} + \\frac{1}{LC}}$."
   ]
  },
  {
   "cell_type": "markdown",
   "metadata": {},
   "source": [
    "By seperating the coefficients of ω, the equation is more explicitly shown. The \"top\" and \"bottom\" in the following section presents the numerator and denominators of the transfer function. \n"
   ]
  },
  {
   "cell_type": "code",
   "execution_count": 182,
   "metadata": {},
   "outputs": [
    {
     "data": {
      "text/plain": [
       "\n",
       "          1000 s\n",
       "---------------------------\n",
       "0.0047 s^2 + 1000 s + 1e+04"
      ]
     },
     "execution_count": 182,
     "metadata": {},
     "output_type": "execute_result"
    }
   ],
   "source": [
    "top = np.asarray([1, 0])*R\n",
    "bottom = np.asarray([1, R/L, 1/(L*C)])*L\n",
    "sys_tf = cntrl.tf(top, bottom)"
   ]
  },
  {
   "cell_type": "code",
   "execution_count": 183,
   "metadata": {
    "scrolled": true
   },
   "outputs": [],
   "source": [
    "def make_tf(params):\n",
    "    R = params.R\n",
    "    L = params.L\n",
    "    C = params.C\n",
    "    top = np.asarray([1, 0])*R\n",
    "    bottom = np.asarray([1, R/L, 1/(L*C)])*L\n",
    "    return cntrl.tf(top, bottom)"
   ]
  },
  {
   "cell_type": "markdown",
   "metadata": {},
   "source": [
    "IV. Defining step functions"
   ]
  },
  {
   "cell_type": "markdown",
   "metadata": {},
   "source": [
    "In order to simulate the system against an arbitrary time signal, we need to transform it into a state-space representation, in the form\n",
    "\n",
    "$\\frac{d}{dt} x = \\mathbf{A}x + \\mathbf{B}u$\n",
    "\n",
    "or, in discrete-time form\n",
    "\n",
    "$x_{t+1} = \\mathbf{A_c}x_t + \\mathbf{B_c}u$\n"
   ]
  },
  {
   "cell_type": "code",
   "execution_count": 187,
   "metadata": {},
   "outputs": [],
   "source": [
    "def make_ss(sys_tf, dt=None):\n",
    "    if dt is None:\n",
    "        return cntrl.ss(sys_tf)\n",
    "    return cntrl.c2d(cntrl.ss(sys_tf), dt)\n"
   ]
  },
  {
   "cell_type": "code",
   "execution_count": 188,
   "metadata": {},
   "outputs": [
    {
     "data": {
      "text/plain": [
       "\n",
       "          1000 s\n",
       "---------------------------\n",
       "0.0047 s^2 + 1000 s + 1e+04"
      ]
     },
     "execution_count": 188,
     "metadata": {},
     "output_type": "execute_result"
    }
   ],
   "source": [
    "sys_tf = make_tf(make_params(R=1000, L=0.0047, C=0.0001, F=1))"
   ]
  },
  {
   "cell_type": "code",
   "execution_count": 201,
   "metadata": {},
   "outputs": [
    {
     "data": {
      "text/plain": [
       "A = [[-4.69590671e-05 -9.99094372e+00]\n",
       " [ 4.69574355e-06  9.99047413e-01]]\n",
       "\n",
       "B = [[4.69574355e-06]\n",
       " [4.47716116e-10]]\n",
       "\n",
       "C = [[212765.95744681      0.        ]]\n",
       "\n",
       "D = [[0.]]\n",
       "\n",
       "dt = 0.0001"
      ]
     },
     "execution_count": 201,
     "metadata": {},
     "output_type": "execute_result"
    }
   ],
   "source": [
    "sys_ss_c = make_ss(sys_tf, 0.0001)"
   ]
  },
  {
   "cell_type": "markdown",
   "metadata": {},
   "source": [
    "Now, we can write a simple simulation function to test by passing a sine wave at 8 rad/s through the discretized state space model"
   ]
  },
  {
   "cell_type": "code",
   "execution_count": 218,
   "metadata": {},
   "outputs": [
    {
     "data": {
      "text/plain": [
       "array([0.00000000e+00, 1.00010001e-04, 2.00020002e-04, ...,\n",
       "       9.99799980e-01, 9.99899990e-01, 1.00000000e+00])"
      ]
     },
     "execution_count": 218,
     "metadata": {},
     "output_type": "execute_result"
    }
   ],
   "source": [
    "def lsim(sys, vec):\n",
    "    state = np.zeros((sys.A.shape[0], 1))\n",
    "    dt = sys.dt\n",
    "    t = []\n",
    "    y = []\n",
    "    for i in range(len(vec)):\n",
    "        state = np.matmul(sys.A, state) + sys.B*vec[i]\n",
    "        output = np.matmul(sys.C, state)\n",
    "        t.append(i*dt)\n",
    "        y.append(float(output))\n",
    "    return t,y\n",
    "sin_x = np.linspace(0, 8*np.pi, int(1/sys_ss_c.dt))\n",
    "sin_y = np.sin(sin_x)\n",
    "t, y = lsim(sys_ss_c, sin_y)\n",
    "sin_x /= 8*np.pi"
   ]
  },
  {
   "cell_type": "code",
   "execution_count": 219,
   "metadata": {},
   "outputs": [
    {
     "data": {
      "image/png": "[encoded data removed]",
      "text/plain": [
       "<Figure size 432x288 with 1 Axes>"
      ]
     },
     "metadata": {
      "needs_background": "light"
     },
     "output_type": "display_data"
    }
   ],
   "source": [
    "plt.plot(t, y)\n",
    "plt.plot(sin_x, sin_y, '--')\n",
    "plt.xlabel(\"Time (s)\")\n",
    "plt.ylabel(\"Voltage (v)\")\n",
    "plt.title(\"RLC filter sine response\")\n",
    "plt.legend([\"Vout\", \"Vin\"], loc=1)\n",
    "plt.show()"
   ]
  },
  {
   "cell_type": "markdown",
   "metadata": {},
   "source": [
    "To generate a bode (frequency response) plot, we pass in a range of complex numbers representing frequencies, then plot the imaginary part."
   ]
  },
  {
   "cell_type": "code",
   "execution_count": 264,
   "metadata": {},
   "outputs": [],
   "source": [
    "#plt.semilogy(np.imag(sys_tf(np.logspace(-3, 3, 1000)*1j)))\n",
    "\n",
    "def gen_bode(sys_tf, min_exp=-3, max_exp=3, points=1000):\n",
    "    space = np.logspace(min_exp, max_exp, points)*1j\n",
    "    data = sys_tf(space)\n",
    "    out = []\n",
    "    for i in np.logspace(min_exp, max_exp, points):\n",
    "        out.append([i, np.imag(sys_tf(i*1j))])\n",
    "    X = [n[0] for n in out]\n",
    "    Y = [n[1] for n in out]\n",
    "    return X, Y\n",
    "\n",
    "def plot_bode(bode_out):\n",
    "    X, Y = bode_out\n",
    "    plt.loglog(X, Y)\n"
   ]
  },
  {
   "cell_type": "markdown",
   "metadata": {},
   "source": [
    "As an example, we can plot a filter's response where R=1000, L=0.0047, and C=0.0001"
   ]
  },
  {
   "cell_type": "code",
   "execution_count": 286,
   "metadata": {},
   "outputs": [
    {
     "data": {
      "text/plain": [
       "Text(0,0.5,'Gain')"
      ]
     },
     "execution_count": 286,
     "metadata": {},
     "output_type": "execute_result"
    },
    {
     "data": {
      "image/png": "[encoded data removed]",
      "text/plain": [
       "<Figure size 432x288 with 1 Axes>"
      ]
     },
     "metadata": {
      "needs_background": "light"
     },
     "output_type": "display_data"
    }
   ],
   "source": [
    "plot_bode(\n",
    "    gen_bode(\n",
    "        make_tf(\n",
    "            make_params(\n",
    "                R=1000, L=0.0047, C=.0001, F=1\n",
    "            )\n",
    "        )\n",
    "    )\n",
    ")\n",
    "plt.title(\"Example bode plot\")\n",
    "plt.xlabel(\"Freq (rad/s)\")\n",
    "plt.ylabel(\"Gain\")"
   ]
  },
  {
   "cell_type": "markdown",
   "metadata": {},
   "source": [
    "To actually analyze the system, we need to know the peak freqency and the frequency range in which the gain is greater than -3dB, equal to $\\frac{\\sqrt{2}}{2}$"
   ]
  },
  {
   "cell_type": "code",
   "execution_count": 285,
   "metadata": {},
   "outputs": [
    {
     "name": "stdout",
     "output_type": "stream",
     "text": [
      "(0.99310918137498, 2.0244407637876627)\n"
     ]
    }
   ],
   "source": [
    "def analyze_bode(plot):\n",
    "    X, Y = plot\n",
    "    bw_start = None\n",
    "    bw_end = None\n",
    "    peak = X[np.argmax(Y)]\n",
    "    peak_filt = np.max(Y)\n",
    "    for i in range(len(Y)-1):\n",
    "        if (Y[i] > (np.sqrt(2)/2)*peak_filt) and bw_start is None:\n",
    "            bw_start = X[i]\n",
    "        if (Y[i] < (np.sqrt(2)/2)*peak_filt) and bw_end is None and bw_start is not None:\n",
    "            bw_end = X[i]\n",
    "            \n",
    "    return peak, bw_end-bw_start\n"
   ]
  },
  {
   "cell_type": "markdown",
   "metadata": {},
   "source": [
    "As an example, we'll find the bandpass and bandwidth for the filter represented by the above bode plot"
   ]
  },
  {
   "cell_type": "code",
   "execution_count": 293,
   "metadata": {},
   "outputs": [
    {
     "name": "stdout",
     "output_type": "stream",
     "text": [
      "Bandpass frequency: 0.99310918137498 rad/s \n",
      "Bandwidth frequency: 2.0244407637876627 rad/s\n"
     ]
    }
   ],
   "source": [
    "\n",
    "bpass, bwidth = analyze_bode(\n",
    "        gen_bode(\n",
    "        make_tf(\n",
    "            make_params(\n",
    "                R=1000, L=0.0047, C=0.001, F=1\n",
    "            )\n",
    "        )\n",
    "    )\n",
    ")\n",
    "print(\"Bandpass frequency:\",bpass, \"rad/s \\nBandwidth frequency:\", bwidth, \"rad/s\")"
   ]
  },
  {
   "cell_type": "markdown",
   "metadata": {},
   "source": [
    "Now, we will sweep a range of values for R, L, and C in order to find the values for our filter to best match our design parameters (passband frequency of 40 rad/s, and a bandwidth of 5 rad/s)"
   ]
  },
  {
   "cell_type": "markdown",
   "metadata": {},
   "source": []
  },
  {
   "cell_type": "code",
   "execution_count": null,
   "metadata": {},
   "outputs": [],
   "source": []
  },
  {
   "cell_type": "code",
   "execution_count": null,
   "metadata": {},
   "outputs": [],
   "source": [
    "fs = [1, 10, 100, 1000, 10000, 100000]\n",
    "\n",
    "def sweep_freq():\n",
    "    ratios = TimeSeries()\n",
    "    offsets = TimeSeries()\n",
    "    \n",
    "    for i, f in enumerate(fs):\n",
    "        system = make_system(Params(params, f=f))\n",
    "        series = compute_vin(results, system)\n",
    "        V = estimate_A(series)\n",
    "        A_in = estimate_A(V_in)\n",
    "        A_out = estimate_A(V_out)\n",
    "\n",
    "        ratios = A_out / A_in\n",
    "        offsets = compute_offset(corr)\n",
    "\n",
    "\n",
    "    return ratios, offsets\n"
   ]
  },
  {
   "cell_type": "code",
   "execution_count": null,
   "metadata": {},
   "outputs": [],
   "source": []
  },
  {
   "cell_type": "code",
   "execution_count": null,
   "metadata": {},
   "outputs": [],
   "source": [
    "def sweep_frequency(fs, params):\n",
    "    ratios = SweepSeries()\n",
    "    offsets = SweepSeries()\n",
    "\n",
    "    for i, f in enumerate(fs):\n",
    "        system = make_system(Params(params, f=f))\n",
    "        results, details = run_ode_solver(system, slope_func, t_eval=system.ts)\n",
    "        V_out = results.V_out\n",
    "        V_in = compute_vin(results, system)\n",
    "        ratios[f] = estimate_ratio(V_out, V_in)\n",
    "        offsets[f] = estimate_offset(V_out, V_in, system)\n",
    "    return ratios, offsets\n",
    "\n",
    "fs = 10 ** linspace(0, 4, 9)\n",
    "ratios, offsets = sweep_frequency(fs, params)"
   ]
  },
  {
   "cell_type": "code",
   "execution_count": null,
   "metadata": {},
   "outputs": [],
   "source": [
    "def plot_ratios(ratios, system):\n",
    "    \"\"\"Plot output ratios.\n",
    "    \"\"\"\n",
    "    plt.axvline(system.cutoff, color='gray', alpha=0.4)\n",
    "    plot(ratios, color='C2', label='output ratio')\n",
    "    decorate(xlabel='Frequency (Hz)',\n",
    "             ylabel='$V_{out} / V_{in}$',\n",
    "             xscale='log', yscale='log')"
   ]
  },
  {
   "cell_type": "code",
   "execution_count": null,
   "metadata": {},
   "outputs": [],
   "source": [
    "plot_ratios(ratios, system)"
   ]
  },
  {
   "cell_type": "code",
   "execution_count": null,
   "metadata": {},
   "outputs": [],
   "source": [
    "def plot_offsets(offsets, system):\n",
    "    \"\"\"Plot phase offsets.\n",
    "    \"\"\"\n",
    "    plt.axvline(system.cutoff, color='gray', alpha=0.4)\n",
    "    plot(offsets, color='C9')\n",
    "    decorate(xlabel='Frequency (Hz)',\n",
    "             ylabel='Phase offset (degree)',\n",
    "             xscale='log')"
   ]
  },
  {
   "cell_type": "code",
   "execution_count": null,
   "metadata": {},
   "outputs": [],
   "source": [
    "plot_offsets(offsets, system)"
   ]
  },
  {
   "cell_type": "code",
   "execution_count": null,
   "metadata": {},
   "outputs": [],
   "source": []
  },
  {
   "cell_type": "code",
   "execution_count": null,
   "metadata": {},
   "outputs": [],
   "source": []
  }
 ],
 "metadata": {
  "kernelspec": {
   "display_name": "Python 3",
   "language": "python",
   "name": "python3"
  },
  "language_info": {
   "codemirror_mode": {
    "name": "ipython",
    "version": 3
   },
   "file_extension": ".py",
   "mimetype": "text/x-python",
   "name": "python",
   "nbconvert_exporter": "python",
   "pygments_lexer": "ipython3",
   "version": "3.7.1"
  }
 },
 "nbformat": 4,
 "nbformat_minor": 2
}
