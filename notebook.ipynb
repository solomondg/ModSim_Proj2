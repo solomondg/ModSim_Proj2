{
 "cells": [
  {
   "cell_type": "markdown",
   "metadata": {},
   "source": [
    "\n",
    "# Modeling the Behavior of an RLC Circuit with an AC input\n",
    "\n",
    "Sophie + Solomon\n",
    "\n",
    "Section 3"
   ]
  },
  {
   "cell_type": "markdown",
   "metadata": {},
   "source": [
    "### Intro"
   ]
  },
  {
   "cell_type": "markdown",
   "metadata": {},
   "source": [
    "This essay models and analyzes the output voltage of an RLC circuit with an AC input voltage. To answer this question, we built a stock-and-flow model, in which the voltage output is treated as a state variable. By comparing with the result from the theoretical calculates, our model is verified. Our results are compatible with both the theoretical calculations from a transfer function and the experimental result from the ISIM Lab. The result reveals the correlation between the offset and attenuation and the frequency of voltage input. This project reveals the interconnection between ISIM and ModSim by approaching the behavior of the RLC circuit from both an empirical perspective and a theoretical modulation. \n",
    "\n",
    "<img src=\"rlc.png\" alt=\"Drawing\" style=\"width: 200px;\"/>\n",
    "\n",
    "## Question\n",
    "#### What values of R, L and C will give a series RLC filter a bandpass frequency of 40 rad/s, and a bandwidth of 5 rad/s?"
   ]
  },
  {
   "cell_type": "markdown",
   "metadata": {},
   "source": [
    "_Definition: The bandpass frequency, or center frequency, of a passband filter is the frequency that a filter will let through with the least amount of attenuation. The bandwidth is the range of frequencies let through with an attenuation under 3dB_\n",
    "<img src=\"filter.png\" alt=\"Drawing\" style=\"width: 400px;\"/>\n"
   ]
  },
  {
   "cell_type": "markdown",
   "metadata": {},
   "source": [
    "In this essay, a number of libraries are used besides ModSim, including control, numpy, scipy and matplotlib.pyplot. The existing functions in these imported libraries make the code clearer and more succint. Namely, the python-control library will greatly accelerate analysis of the frequency domain-based systems used later."
   ]
  },
  {
   "cell_type": "code",
   "execution_count": 438,
   "metadata": {},
   "outputs": [],
   "source": [
    "# Configure Jupyter so figures appear in the notebook\n",
    "%matplotlib inline\n",
    "\n",
    "# Configure Jupyter to display the assigned value after an assignment\n",
    "%config InteractiveShell.ast_node_interactivity='last_expr_or_assign'\n",
    "\n",
    "# import functions from the modsim.py module\n",
    "from modsim import *\n",
    "\n",
    "import control as cntrl\n",
    "import numpy as np\n",
    "import scipy as sp\n",
    "import matplotlib.pyplot as plt"
   ]
  },
  {
   "cell_type": "markdown",
   "metadata": {},
   "source": [
    "### System definition"
   ]
  },
  {
   "cell_type": "markdown",
   "metadata": {},
   "source": [
    "In this section, the system (the value of the inductor, capacitor and resistor) are being defined. By running make_system, a set of system value is updated.\n"
   ]
  },
  {
   "cell_type": "code",
   "execution_count": 130,
   "metadata": {},
   "outputs": [
    {
     "data": {
      "text/html": [
       "<div>\n",
       "<style scoped>\n",
       "    .dataframe tbody tr th:only-of-type {\n",
       "        vertical-align: middle;\n",
       "    }\n",
       "\n",
       "    .dataframe tbody tr th {\n",
       "        vertical-align: top;\n",
       "    }\n",
       "\n",
       "    .dataframe thead th {\n",
       "        text-align: right;\n",
       "    }\n",
       "</style>\n",
       "<table border=\"1\" class=\"dataframe\">\n",
       "  <thead>\n",
       "    <tr style=\"text-align: right;\">\n",
       "      <th></th>\n",
       "      <th>values</th>\n",
       "    </tr>\n",
       "  </thead>\n",
       "  <tbody>\n",
       "    <tr>\n",
       "      <th>L</th>\n",
       "      <td>0.0047</td>\n",
       "    </tr>\n",
       "    <tr>\n",
       "      <th>C</th>\n",
       "      <td>0.0001</td>\n",
       "    </tr>\n",
       "    <tr>\n",
       "      <th>R</th>\n",
       "      <td>1000.0000</td>\n",
       "    </tr>\n",
       "    <tr>\n",
       "      <th>F</th>\n",
       "      <td>500.0000</td>\n",
       "    </tr>\n",
       "  </tbody>\n",
       "</table>\n",
       "</div>"
      ],
      "text/plain": [
       "L       0.0047\n",
       "C       0.0001\n",
       "R    1000.0000\n",
       "F     500.0000\n",
       "dtype: float64"
      ]
     },
     "execution_count": 130,
     "metadata": {},
     "output_type": "execute_result"
    }
   ],
   "source": [
    "def make_params(*, R, L, C, F):\n",
    "    return Params(L = L, C = C, R = R, F=F)\n",
    "params = make_params(R=1000, L=0.0047, C=0.0001, F=500)"
   ]
  },
  {
   "cell_type": "code",
   "execution_count": 131,
   "metadata": {},
   "outputs": [
    {
     "data": {
      "text/html": [
       "<div>\n",
       "<style scoped>\n",
       "    .dataframe tbody tr th:only-of-type {\n",
       "        vertical-align: middle;\n",
       "    }\n",
       "\n",
       "    .dataframe tbody tr th {\n",
       "        vertical-align: top;\n",
       "    }\n",
       "\n",
       "    .dataframe thead th {\n",
       "        text-align: right;\n",
       "    }\n",
       "</style>\n",
       "<table border=\"1\" class=\"dataframe\">\n",
       "  <thead>\n",
       "    <tr style=\"text-align: right;\">\n",
       "      <th></th>\n",
       "      <th>values</th>\n",
       "    </tr>\n",
       "  </thead>\n",
       "  <tbody>\n",
       "    <tr>\n",
       "      <th>init</th>\n",
       "      <td>I     0\n",
       "dI    0\n",
       "dtype: int64</td>\n",
       "    </tr>\n",
       "    <tr>\n",
       "      <th>R</th>\n",
       "      <td>1000</td>\n",
       "    </tr>\n",
       "    <tr>\n",
       "      <th>L</th>\n",
       "      <td>0.0047</td>\n",
       "    </tr>\n",
       "    <tr>\n",
       "      <th>C</th>\n",
       "      <td>0.0001</td>\n",
       "    </tr>\n",
       "    <tr>\n",
       "      <th>sim_timestep</th>\n",
       "      <td>0.0001</td>\n",
       "    </tr>\n",
       "    <tr>\n",
       "      <th>t_end</th>\n",
       "      <td>3</td>\n",
       "    </tr>\n",
       "    <tr>\n",
       "      <th>F</th>\n",
       "      <td>500</td>\n",
       "    </tr>\n",
       "    <tr>\n",
       "      <th>ts</th>\n",
       "      <td>[0.0, 1e-05, 2e-05, 3.0000000000000004e-05, 4e...</td>\n",
       "    </tr>\n",
       "  </tbody>\n",
       "</table>\n",
       "</div>"
      ],
      "text/plain": [
       "init                                 I     0\n",
       "dI    0\n",
       "dtype: int64\n",
       "R                                                            1000\n",
       "L                                                          0.0047\n",
       "C                                                          0.0001\n",
       "sim_timestep                                               0.0001\n",
       "t_end                                                           3\n",
       "F                                                             500\n",
       "ts              [0.0, 1e-05, 2e-05, 3.0000000000000004e-05, 4e...\n",
       "dtype: object"
      ]
     },
     "execution_count": 131,
     "metadata": {},
     "output_type": "execute_result"
    }
   ],
   "source": [
    "def make_system(params): \n",
    "    unpack(params)\n",
    "    init=State(I=0, dI=0)\n",
    "    \n",
    "    sim_timestep = 0.0001\n",
    "    t_end = 2.5\n",
    "    \n",
    "    return System(\n",
    "        init=State(I=0, dI=0),\n",
    "        R=params.R,\n",
    "        L=params.L,\n",
    "        C=params.C,\n",
    "        sim_timestep=0.0001,\n",
    "        t_end=3,\n",
    "        F=params.F,\n",
    "        ts=[i*0.0001 for i in range(int(round(3/0.0001)))]\n",
    "    )\n",
    "\n",
    "system = make_system(params)"
   ]
  },
  {
   "cell_type": "markdown",
   "metadata": {},
   "source": [
    "## Model\n",
    "\n",
    "The dynamics of a series RLC filter are given by the equation\n",
    "\n",
    "$L\\frac{d^2}{d^2t}i+ R\\frac{d}{dt}i + \\frac{1}{C}i=\\frac{d}{dt}V_{in}$.\n",
    "\n",
    "$V_{out} = R\\cdot i$\n",
    "\n",
    "To successfully integrate this, we must transform into equations in terms of $\\frac{d^2}{d^2t}i$ and $\\frac{d}{dt}i$\n",
    "\n",
    "$\\frac{d^2}{d^2t}i = \\frac{1}{L}\\frac{d}{dt}V -\\frac{R}{L}\\frac{d}{dt}i -\\frac{1}{CL}i$\n",
    "\n",
    "$\\frac{d}{dt}i = \\frac{1}{R}\\frac{d}{dt}V -\\frac{1}{RC}i -\\frac{L}{R}\\frac{d^2}{d^2 t}i$"
   ]
  },
  {
   "cell_type": "code",
   "execution_count": 124,
   "metadata": {},
   "outputs": [],
   "source": [
    "def slope_func(state, t, system):\n",
    "    I, dI = state\n",
    "    R = system.R\n",
    "    L = system.L\n",
    "    C = system.C\n",
    "    dV = np.cos(t*system.F) + np.sin(t*system.F) * 1j\n",
    "    #dV = 0\n",
    "    n_d2I = dV/L + -(R/L * dI) + -(1/(C*L) * I)\n",
    "    n_dI = dV/R  + -(1/(R*C) * I) + -(L/R * n_d2I)\n",
    "    return [n_dI, n_d2I]\n"
   ]
  },
  {
   "cell_type": "markdown",
   "metadata": {},
   "source": [
    "We can test this equation by integrating it with respect to a simple sin wave at 500 rad/s"
   ]
  },
  {
   "cell_type": "code",
   "execution_count": 181,
   "metadata": {},
   "outputs": [
    {
     "name": "stderr",
     "output_type": "stream",
     "text": [
      "/usr/lib/python3.7/site-packages/scipy/integrate/odepack.py:233: ComplexWarning: Casting complex values to real discards the imaginary part\n",
      "  int(bool(tfirst)))\n"
     ]
    },
    {
     "data": {
      "text/plain": [
       "[<matplotlib.lines.Line2D at 0x7f5b5f387f60>]"
      ]
     },
     "execution_count": 181,
     "metadata": {},
     "output_type": "execute_result"
    },
    {
     "data": {
      "image/png": "[encoded data removed]",
      "text/plain": [
       "<Figure size 432x288 with 1 Axes>"
      ]
     },
     "metadata": {
      "needs_background": "light"
     },
     "output_type": "display_data"
    }
   ],
   "source": [
    "test_sys = make_system(make_params(R=1000, L=0.0047, C=0.0001, F=500))\n",
    "res = run_odeint(test_sys, slope_func)\n",
    "#for i in range(len(res)):\n",
    "#    out.append([i*test_sys.sim_timestep, res['I'][i]])\n",
    "\n",
    "#out = []\n",
    "#for i in np.linspace(0, 0.1, 500):\n",
    "#    out.append([i, np.sin(i*500)])\n",
    "#out = np.asarray(out)/10\n",
    "#plot(out, '--')\n",
    "plot(res['I'][0:0.1]*test_sys.R, '-')"
   ]
  },
  {
   "cell_type": "markdown",
   "metadata": {},
   "source": [
    "As we can see, the output of this system is (similarly) a sin wave, showing its validity as an analog filter."
   ]
  },
  {
   "cell_type": "markdown",
   "metadata": {},
   "source": [
    "### Defining the transfer function of the circuit. \n",
    "\n",
    "We found that the differential equations of this circuit required too high of a simulation fidelity to simulate accurately at high frequencies. We decided to transform the time-based differential equations into a frequency-based transfer function, which the python-control library would allow us to manipulate much faster and more accurately than could be done with a differential equation-based simulation."
   ]
  },
  {
   "cell_type": "markdown",
   "metadata": {},
   "source": [
    "Generalized transfer function of a series RLC circuit: \n",
    "\n",
    "$\\frac{V_o}{V_i}=\\frac{R}{L} \\frac{s}{s^2 + \\frac{R}{L} + \\frac{1}{LC}}$."
   ]
  },
  {
   "cell_type": "markdown",
   "metadata": {},
   "source": [
    "By seperating the coefficients of ω, the equation is more explicitly shown. The \"top\" and \"bottom\" in the following section presents the numerator and denominators of the transfer function. \n"
   ]
  },
  {
   "cell_type": "code",
   "execution_count": 182,
   "metadata": {},
   "outputs": [
    {
     "data": {
      "text/plain": [
       "\n",
       "          1000 s\n",
       "---------------------------\n",
       "0.0047 s^2 + 1000 s + 1e+04"
      ]
     },
     "execution_count": 182,
     "metadata": {},
     "output_type": "execute_result"
    }
   ],
   "source": [
    "top = np.asarray([1, 0])*R\n",
    "bottom = np.asarray([1, R/L, 1/(L*C)])*L\n",
    "sys_tf = cntrl.tf(top, bottom)"
   ]
  },
  {
   "cell_type": "code",
   "execution_count": 183,
   "metadata": {
    "scrolled": true
   },
   "outputs": [],
   "source": [
    "def make_tf(params):\n",
    "    R = params.R\n",
    "    L = params.L\n",
    "    C = params.C\n",
    "    top = np.asarray([1, 0])*R\n",
    "    bottom = np.asarray([1, R/L, 1/(L*C)])*L\n",
    "    return cntrl.tf(top, bottom)"
   ]
  },
  {
   "cell_type": "markdown",
   "metadata": {},
   "source": [
    "IV. Defining step functions"
   ]
  },
  {
   "cell_type": "markdown",
   "metadata": {},
   "source": [
    "In order to simulate the system against an arbitrary time signal, we need to transform it into a state-space representation, in the form\n",
    "\n",
    "$\\frac{d}{dt} x = \\mathbf{A}x + \\mathbf{B}u$\n",
    "\n",
    "or, in discrete-time form\n",
    "\n",
    "$x_{t+1} = \\mathbf{A_c}x_t + \\mathbf{B_c}u$\n"
   ]
  },
  {
   "cell_type": "code",
   "execution_count": 187,
   "metadata": {},
   "outputs": [],
   "source": [
    "def make_ss(sys_tf, dt=None):\n",
    "    if dt is None:\n",
    "        return cntrl.ss(sys_tf)\n",
    "    return cntrl.c2d(cntrl.ss(sys_tf), dt)\n"
   ]
  },
  {
   "cell_type": "code",
   "execution_count": 188,
   "metadata": {},
   "outputs": [
    {
     "data": {
      "text/plain": [
       "\n",
       "          1000 s\n",
       "---------------------------\n",
       "0.0047 s^2 + 1000 s + 1e+04"
      ]
     },
     "execution_count": 188,
     "metadata": {},
     "output_type": "execute_result"
    }
   ],
   "source": [
    "sys_tf = make_tf(make_params(R=1000, L=0.0047, C=0.0001, F=1))"
   ]
  },
  {
   "cell_type": "code",
   "execution_count": 418,
   "metadata": {},
   "outputs": [
    {
     "name": "stdout",
     "output_type": "stream",
     "text": [
      "\n"
     ]
    }
   ],
   "source": [
    "sys_ss_c = make_ss(sys_tf, 0.0001)\n",
    "print(\"\")"
   ]
  },
  {
   "cell_type": "markdown",
   "metadata": {},
   "source": [
    "Now, we can write a simple simulation function to test by passing a sine wave at 8 rad/s through the discretized state space model"
   ]
  },
  {
   "cell_type": "code",
   "execution_count": 421,
   "metadata": {},
   "outputs": [
    {
     "name": "stdout",
     "output_type": "stream",
     "text": [
      "\n"
     ]
    }
   ],
   "source": [
    "def lsim(sys, vec):\n",
    "    state = np.zeros((sys.A.shape[0], 1))\n",
    "    dt = sys.dt\n",
    "    t = []\n",
    "    y = []\n",
    "    for i in range(len(vec)):\n",
    "        state = np.matmul(sys.A, state) + sys.B*vec[i]\n",
    "        output = np.matmul(sys.C, state)\n",
    "        t.append(i*dt)\n",
    "        y.append(float(output))\n",
    "    return t,y\n",
    "sin_x = np.linspace(0, 8*np.pi, int(1/sys_ss_c.dt))\n",
    "sin_y = np.sin(sin_x)\n",
    "t, y = lsim(sys_ss_c, sin_y)\n",
    "sin_x /= 8*np.pi\n",
    "print(\"\")"
   ]
  },
  {
   "cell_type": "code",
   "execution_count": 325,
   "metadata": {},
   "outputs": [
    {
     "data": {
      "image/png": "[encoded data removed]",
      "text/plain": [
       "<Figure size 432x288 with 1 Axes>"
      ]
     },
     "metadata": {
      "needs_background": "light"
     },
     "output_type": "display_data"
    }
   ],
   "source": [
    "plt.plot(t, y)\n",
    "plt.plot(sin_x, sin_y, '--')\n",
    "plt.xlabel(\"Time (s)\")\n",
    "plt.ylabel(\"Voltage (v)\")\n",
    "plt.title(\"RLC filter sine response\")\n",
    "plt.legend([\"Vout\", \"Vin\"], loc=1)\n",
    "plt.show()"
   ]
  },
  {
   "cell_type": "markdown",
   "metadata": {},
   "source": [
    "To generate a bode (frequency response) plot, we pass in a range of complex numbers representing frequencies, then plot the imaginary part."
   ]
  },
  {
   "cell_type": "code",
   "execution_count": 326,
   "metadata": {},
   "outputs": [],
   "source": [
    "#plt.semilogy(np.imag(sys_tf(np.logspace(-3, 3, 1000)*1j)))\n",
    "\n",
    "def gen_bode(sys_tf, min_exp=-5, max_exp=5, points=1000):\n",
    "    space = np.logspace(min_exp, max_exp, points)*1j\n",
    "    data = sys_tf(space)\n",
    "    out = []\n",
    "    for i in np.logspace(min_exp, max_exp, points):\n",
    "        out.append([i, np.imag(sys_tf(i*1j))])\n",
    "    X = [n[0] for n in out]\n",
    "    Y = [n[1] for n in out]\n",
    "    return X, Y\n",
    "\n",
    "def plot_bode(bode_out):\n",
    "    X, Y = bode_out\n",
    "    plt.loglog(X, Y)\n"
   ]
  },
  {
   "cell_type": "markdown",
   "metadata": {},
   "source": [
    "As an example, we can plot a filter's response where R=1000, L=0.0047, and C=0.0001"
   ]
  },
  {
   "cell_type": "code",
   "execution_count": 327,
   "metadata": {},
   "outputs": [
    {
     "data": {
      "text/plain": [
       "Text(0,0.5,'Gain')"
      ]
     },
     "execution_count": 327,
     "metadata": {},
     "output_type": "execute_result"
    },
    {
     "data": {
      "image/png": "[encoded data removed]",
      "text/plain": [
       "<Figure size 432x288 with 1 Axes>"
      ]
     },
     "metadata": {
      "needs_background": "light"
     },
     "output_type": "display_data"
    }
   ],
   "source": [
    "plot_bode(\n",
    "    gen_bode(\n",
    "        make_tf(\n",
    "            make_params(\n",
    "                R=1000, L=0.0047, C=.0001, F=1\n",
    "            )\n",
    "        )\n",
    "    )\n",
    ")\n",
    "plt.title(\"Example bode plot\")\n",
    "plt.xlabel(\"Freq (rad/s)\")\n",
    "plt.ylabel(\"Gain\")"
   ]
  },
  {
   "cell_type": "markdown",
   "metadata": {},
   "source": [
    "To actually analyze the system, we need to know the peak freqency and the frequency range in which the gain is greater than -3dB, equal to $\\frac{\\sqrt{2}}{2}$"
   ]
  },
  {
   "cell_type": "code",
   "execution_count": 328,
   "metadata": {},
   "outputs": [],
   "source": [
    "def analyze_bode(plot):\n",
    "    X, Y = plot\n",
    "    bw_start = None\n",
    "    bw_end = None\n",
    "    peak = X[np.argmax(Y)]\n",
    "    peak_filt = np.max(Y)\n",
    "    for i in range(len(Y)-1):\n",
    "        if (Y[i] > (np.sqrt(2)/2)*peak_filt) and bw_start is None:\n",
    "            bw_start = X[i]\n",
    "        if (Y[i] < (np.sqrt(2)/2)*peak_filt) and bw_end is None and bw_start is not None:\n",
    "            bw_end = X[i]\n",
    "            \n",
    "    return peak, bw_end-bw_start\n"
   ]
  },
  {
   "cell_type": "markdown",
   "metadata": {},
   "source": [
    "As an example, we'll find the bandpass and bandwidth for the filter represented by the above bode plot"
   ]
  },
  {
   "cell_type": "code",
   "execution_count": 329,
   "metadata": {},
   "outputs": [
    {
     "name": "stdout",
     "output_type": "stream",
     "text": [
      "Bandpass frequency: 0.9885417021919574 rad/s \n",
      "Bandwidth frequency 2.0074322080757216 rad/s\n"
     ]
    }
   ],
   "source": [
    "\n",
    "bpass, bwidth = analyze_bode(\n",
    "        gen_bode(\n",
    "        make_tf(\n",
    "            make_params(\n",
    "                R=1000, L=0.0047, C=0.001, F=1\n",
    "            )\n",
    "        )\n",
    "    )\n",
    ")\n",
    "print(\"Bandpass frequency:\",bpass, \"rad/s \\nBandwidth frequency\", bwidth, \"rad/s\")"
   ]
  },
  {
   "cell_type": "markdown",
   "metadata": {},
   "source": [
    "Now, we will sweep a range of values for R, L, and C in order to find the values for our filter to best match our design parameters (passband frequency of 40 rad/s, and a bandwidth of 5 rad/s)"
   ]
  },
  {
   "cell_type": "code",
   "execution_count": 390,
   "metadata": {},
   "outputs": [
    {
     "name": "stdout",
     "output_type": "stream",
     "text": [
      "1000 of 1000        \r"
     ]
    }
   ],
   "source": [
    "R_range = np.logspace(1, 3, 10)\n",
    "L_range = np.logspace(-2, 4, 10)\n",
    "C_range = np.logspace(-3, -2, 10)\n",
    "\n",
    "permutations = []\n",
    "for r in R_range:\n",
    "    for l in L_range:\n",
    "        for c in C_range:\n",
    "            permutations.append([r, l, c])\n",
    "\n",
    "results = []\n",
    "tick = 0\n",
    "for i in permutations:\n",
    "    tick += 1\n",
    "    print(\"\\r                    \", end='\\r')\n",
    "    print(tick, \"of\", 10**3, end='\\r')\n",
    "    bandpass, bandwidth = analyze_bode(\n",
    "        gen_bode(\n",
    "            make_tf(\n",
    "                make_params(\n",
    "                    R=i[0], L=i[1], C=i[2], F=0\n",
    "                )\n",
    "            )\n",
    "        )\n",
    "    )\n",
    "    results.append(\n",
    "        [\n",
    "            [bandpass, bandwidth], [i[0], i[1], i[2]]\n",
    "        ]\n",
    "    )\n",
    "\n"
   ]
  },
  {
   "cell_type": "code",
   "execution_count": 396,
   "metadata": {},
   "outputs": [],
   "source": [
    "def error(bandpass, bandwidth, wanted_bandpass=40, wanted_bandwidth=5):\n",
    "    bandpass_err = abs(wanted_bandpass-bandpass)\n",
    "    bandwidth_err = abs(wanted_bandwidth-bandwidth)\n",
    "    return bandpass_err+bandwidth_err"
   ]
  },
  {
   "cell_type": "code",
   "execution_count": 437,
   "metadata": {},
   "outputs": [
    {
     "name": "stdout",
     "output_type": "stream",
     "text": [
      "Minimized error, R, L, and C: [1.54386162e+01 1.00000000e+01 1.00000000e+00 1.00000000e-03]\n"
     ]
    }
   ],
   "source": [
    "rlc_vs_err = []\n",
    "for i in results:\n",
    "    rlc_vs_err.append([error(i[0][0], i[0][1]), i[1][0], i[1][1], i[1][2]])\n",
    "rlc_vs_err = np.asarray(rlc_vs_err)\n",
    "err = [n[0] for n in rlc_vs_err]\n",
    "R = [n[1] for n in rlc_vs_err]\n",
    "L = [n[2] for n in rlc_vs_err]\n",
    "C = [n[3] for n in rlc_vs_err]\n",
    "#for i in rlc_vs_err[0:5]:\n",
    "#    print(i)\n",
    "    \n",
    "#print(np.argmin(err))\n",
    "print(\"Minimized error, R, L, and C:\", rlc_vs_err[np.argmin(err)])\n",
    "#for i in sorted(rlc_vs_err, key=lambda x: x[0]):\n",
    "#    print(i)"
   ]
  },
  {
   "cell_type": "markdown",
   "metadata": {},
   "source": [
    "Our basic sweeping error minimizer found that R,L,C values of 10Ω, 1H, and 0.001uF respectively, would minimize the response error of the filter.\n",
    "\n",
    "To use Scipy's nonlinear solver, we need to define an error function to minimize"
   ]
  },
  {
   "cell_type": "code",
   "execution_count": 425,
   "metadata": {},
   "outputs": [],
   "source": [
    "def err_func(x):\n",
    "    R, L, C = x\n",
    "    bandpass, bandwidth = analyze_bode(\n",
    "        gen_bode(\n",
    "            make_tf(\n",
    "                make_params(\n",
    "                    R=i[0], L=i[1], C=i[2], F=0\n",
    "                )\n",
    "            )\n",
    "        )\n",
    "    )\n",
    "    return error(bandpass, bandwidth, wanted_bandwidth = 5, wanted_bandpass=40)\n",
    "    "
   ]
  },
  {
   "cell_type": "code",
   "execution_count": 426,
   "metadata": {},
   "outputs": [
    {
     "name": "stdout",
     "output_type": "stream",
     "text": [
      "9.908228099003788 19.023926412649782\n",
      "      fun: 42.1545573380097\n",
      " hess_inv: array([[1, 0, 0],\n",
      "       [0, 1, 0],\n",
      "       [0, 0, 1]])\n",
      "      jac: array([0., 0., 0.])\n",
      "  message: 'Optimization terminated successfully.'\n",
      "     nfev: 5\n",
      "      nit: 0\n",
      "     njev: 1\n",
      "   status: 0\n",
      "  success: True\n",
      "        x: array([1.e+02, 1.e-01, 1.e-03])\n"
     ]
    },
    {
     "data": {
      "text/plain": [
       "Text(0,0.5,'Gain')"
      ]
     },
     "execution_count": 426,
     "metadata": {},
     "output_type": "execute_result"
    },
    {
     "data": {
      "image/png": "[encoded data removed]",
      "text/plain": [
       "<Figure size 432x288 with 1 Axes>"
      ]
     },
     "metadata": {
      "needs_background": "light"
     },
     "output_type": "display_data"
    }
   ],
   "source": [
    "\n",
    "\n",
    "from scipy.optimize import minimize\n",
    "optim_RLC = minimize(err_func, np.asarray([100, 0.1, 0.001]))\n",
    "R, L, C = optim_RLC.x\n",
    "bpass, bwidth = analyze_bode(\n",
    "        gen_bode(\n",
    "        make_tf(\n",
    "            make_params(\n",
    "                R=R, L=L, C=C, F=1\n",
    "            )\n",
    "        )\n",
    "    )\n",
    ")\n",
    "print(bpass, bwidth)\n",
    "print(optim_RLC)\n",
    "\n",
    "plot_bode(gen_bode(\n",
    "        make_tf(\n",
    "            make_params(\n",
    "                R=R, L=L, C=C, F=1\n",
    "            )\n",
    "        )))\n",
    "plt.title(\"Bode plot for optimized system\")\n",
    "plt.xlabel(\"Freq (rad/s)\")\n",
    "plt.ylabel(\"Gain\")"
   ]
  },
  {
   "cell_type": "markdown",
   "metadata": {},
   "source": [
    "### Results\n",
    "\n",
    "Ultimately, we were not able to successfully optimize for the given set of frequency characteristics. While our desired frequency characteristics were a passband of 40 rad/s and a bandwidth of 5 rad/s, the filter we were able to identify that best matched our desired frequency response had a passband of 10 rad/s and a bandwidth of 20 rad/s. \n",
    "\n",
    "With more computational runtime and resources, we would be able to run a higher fidelity simulation and try more of Scipy's optimization methods."
   ]
  },
  {
   "cell_type": "markdown",
   "metadata": {},
   "source": [
    "### Interpretation\n",
    "\n",
    "We're not completely sure why neither the brute-force method (sweeping values for R, L, and C) nor the scipy solver was able to successfully optimize the circuit parameters. Given more time, the transfer function could be linearized using the jacobian matrix and we could've written a custom solver. \n",
    "\n",
    "In the case of analog AC circuits with complex impedence, we found it's frequently necessary to transform into the frequency domain (the transfer function) in order to minimize computation time among higher frequencies.\n",
    "\n",
    "We also found that minute changes in the transfer function and the R, L, and C values of the circuit can lead to massively different bandwidth and bandpass values.\n",
    "\n",
    "In terms of iteration, we moved from initially verifying some of our model assumptions using transfer function representations. However, we wanted to actually model in the time domain using differential equations, so we implemented and integrated them using Scipy's ODE Solver. While successful, we found that the computation time required to sweep values of R, L, and C with the time-domain method was much higher than we could afford, so we were forced to move back to the transfer function-based model.\n",
    "\n",
    "\n",
    "One assumption we made is that all parts of the circuit behave as ideal discrete components. In the real world, a resistor will have an amount of capacitance, an inductor will have an amount of resistance, a power supply will have voltage drop as current is drawn, etc."
   ]
  },
  {
   "cell_type": "markdown",
   "metadata": {},
   "source": [
    "### Final abstract\n",
    "Overall, we sought to find values of R, L, and C that would give a series RLC filter a bandpass frequency of as close to 40 rad/s as possible, and a bandwidth of as close to 5 rad/s as possible.\n",
    "\n",
    "While we were not able to minimize error to an acceptable degree, we found that R, L, and C values of 10, 0.1, and 0.001 gave a bandpass frequency of 20 rad/s and a bandwidth of 9.9 rad/s, as shown by the following bode plot:"
   ]
  },
  {
   "cell_type": "code",
   "execution_count": 430,
   "metadata": {},
   "outputs": [
    {
     "data": {
      "text/plain": [
       "Text(0,0.5,'Gain')"
      ]
     },
     "execution_count": 430,
     "metadata": {},
     "output_type": "execute_result"
    },
    {
     "data": {
      "image/png": "[encoded data removed]",
      "text/plain": [
       "<Figure size 432x288 with 1 Axes>"
      ]
     },
     "metadata": {
      "needs_background": "light"
     },
     "output_type": "display_data"
    }
   ],
   "source": [
    "plot_bode(gen_bode(make_tf(make_params(R=10, L=0.1, C=0.001, F=1))))\n",
    "plt.title(\"Bode plot for optimized system\");plt.xlabel(\"Freq (rad/s)\");plt.ylabel(\"Gain\")"
   ]
  }
 ],
 "metadata": {
  "kernelspec": {
   "display_name": "Python 3",
   "language": "python",
   "name": "python3"
  },
  "language_info": {
   "codemirror_mode": {
    "name": "ipython",
    "version": 3
   },
   "file_extension": ".py",
   "mimetype": "text/x-python",
   "name": "python",
   "nbconvert_exporter": "python",
   "pygments_lexer": "ipython3",
   "version": "3.7.1"
  }
 },
 "nbformat": 4,
 "nbformat_minor": 2
}
